{
 "cells": [
  {
   "cell_type": "markdown",
   "id": "27001d06",
   "metadata": {},
   "source": [
    "What affects the easiness of taking a leave for mental health condition?"
   ]
  },
  {
   "cell_type": "markdown",
   "id": "c28b6652",
   "metadata": {},
   "source": [
    "see overleaf"
   ]
  }
 ],
 "metadata": {
  "kernelspec": {
   "display_name": "Python 3",
   "language": "python",
   "name": "python3"
  },
  "language_info": {
   "codemirror_mode": {
    "name": "ipython",
    "version": 3
   },
   "file_extension": ".py",
   "mimetype": "text/x-python",
   "name": "python",
   "nbconvert_exporter": "python",
   "pygments_lexer": "ipython3",
   "version": "3.8.8"
  }
 },
 "nbformat": 4,
 "nbformat_minor": 5
}
