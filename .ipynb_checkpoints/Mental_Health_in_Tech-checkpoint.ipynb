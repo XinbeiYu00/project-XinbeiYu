{
 "cells": [
  {
   "cell_type": "markdown",
   "id": "d4f68db1",
   "metadata": {},
   "source": [
    "find the data description here: https://www.kaggle.com/datasets/osmi/mental-health-in-tech-survey"
   ]
  },
  {
   "cell_type": "markdown",
   "id": "fad7ac9f",
   "metadata": {},
   "source": [
    "Based on the proposed research question, the target variable will be [leave] which represents how easy it is to take a leave for mental health reasons in a tech company."
   ]
  },
  {
   "cell_type": "code",
   "execution_count": 2,
   "id": "b811eb92",
   "metadata": {},
   "outputs": [
    {
     "name": "stdout",
     "output_type": "stream",
     "text": [
      "             Timestamp  Age  Gender         Country state self_employed  \\\n",
      "0  2014-08-27 11:29:31   37  Female   United States    IL           NaN   \n",
      "1  2014-08-27 11:29:37   44       M   United States    IN           NaN   \n",
      "2  2014-08-27 11:29:44   32    Male          Canada   NaN           NaN   \n",
      "3  2014-08-27 11:29:46   31    Male  United Kingdom   NaN           NaN   \n",
      "4  2014-08-27 11:30:22   31    Male   United States    TX           NaN   \n",
      "\n",
      "  family_history treatment work_interfere    no_employees  ...  \\\n",
      "0             No       Yes          Often            6-25  ...   \n",
      "1             No        No         Rarely  More than 1000  ...   \n",
      "2             No        No         Rarely            6-25  ...   \n",
      "3            Yes       Yes          Often          26-100  ...   \n",
      "4             No        No          Never         100-500  ...   \n",
      "\n",
      "                leave mental_health_consequence phys_health_consequence  \\\n",
      "0       Somewhat easy                        No                      No   \n",
      "1          Don't know                     Maybe                      No   \n",
      "2  Somewhat difficult                        No                      No   \n",
      "3  Somewhat difficult                       Yes                     Yes   \n",
      "4          Don't know                        No                      No   \n",
      "\n",
      "      coworkers supervisor mental_health_interview phys_health_interview  \\\n",
      "0  Some of them        Yes                      No                 Maybe   \n",
      "1            No         No                      No                    No   \n",
      "2           Yes        Yes                     Yes                   Yes   \n",
      "3  Some of them         No                   Maybe                 Maybe   \n",
      "4  Some of them        Yes                     Yes                   Yes   \n",
      "\n",
      "  mental_vs_physical obs_consequence comments  \n",
      "0                Yes              No      NaN  \n",
      "1         Don't know              No      NaN  \n",
      "2                 No              No      NaN  \n",
      "3                 No             Yes      NaN  \n",
      "4         Don't know              No      NaN  \n",
      "\n",
      "[5 rows x 27 columns]\n",
      "(1259, 27)\n"
     ]
    }
   ],
   "source": [
    "import pandas as pd\n",
    "\n",
    "df = pd.read_csv('data/survey.csv')\n",
    "\n",
    "print(df.head())\n",
    "print(df.shape)"
   ]
  },
  {
   "cell_type": "code",
   "execution_count": 68,
   "id": "71f85d8e",
   "metadata": {},
   "outputs": [
    {
     "data": {
      "text/plain": [
       "count              1259\n",
       "unique               48\n",
       "top       United States\n",
       "freq                751\n",
       "Name: Country, dtype: object"
      ]
     },
     "execution_count": 68,
     "metadata": {},
     "output_type": "execute_result"
    }
   ],
   "source": [
    "df['Country'].describe()"
   ]
  },
  {
   "cell_type": "code",
   "execution_count": 69,
   "id": "9f489397",
   "metadata": {},
   "outputs": [
    {
     "data": {
      "text/plain": [
       "count     1259\n",
       "unique       2\n",
       "top        Yes\n",
       "freq      1031\n",
       "Name: tech_company, dtype: object"
      ]
     },
     "execution_count": 69,
     "metadata": {},
     "output_type": "execute_result"
    }
   ],
   "source": [
    "df['tech_company'].describe()"
   ]
  },
  {
   "cell_type": "code",
   "execution_count": 4,
   "id": "73077bb1",
   "metadata": {},
   "outputs": [
    {
     "name": "stdout",
     "output_type": "stream",
     "text": [
      "data dimensions: (1259, 27)\n",
      "fraction of missing values in features:\n",
      "state             0.409055\n",
      "self_employed     0.014297\n",
      "work_interfere    0.209690\n",
      "comments          0.869738\n",
      "dtype: float64\n",
      "data types of the features with missing values:\n",
      "state             object\n",
      "self_employed     object\n",
      "work_interfere    object\n",
      "comments          object\n",
      "dtype: object\n",
      "fraction of points with missing values: 0.931691818903892\n"
     ]
    }
   ],
   "source": [
    "#find missing values\n",
    "print('data dimensions:',df.shape)\n",
    "perc_missing_per_ftr = df.isnull().sum(axis=0)/df.shape[0]\n",
    "print('fraction of missing values in features:')\n",
    "print(perc_missing_per_ftr[perc_missing_per_ftr > 0])\n",
    "print('data types of the features with missing values:')\n",
    "print(df[perc_missing_per_ftr[perc_missing_per_ftr > 0].index].dtypes)\n",
    "frac_missing = sum(df.isnull().sum(axis=1)!=0)/df.shape[0]\n",
    "print('fraction of points with missing values:',frac_missing)"
   ]
  },
  {
   "cell_type": "code",
   "execution_count": 17,
   "id": "e11419bd",
   "metadata": {},
   "outputs": [],
   "source": [
    "#fill missing state with other\n",
    "df['state'].fillna(value='Other', inplace=True)\n",
    "\n",
    "#fill missing self_employed with mode\n",
    "df['self_employed'].describe()\n",
    "df['self_employed'].fillna(value='No', inplace=True)\n",
    "\n",
    "#fill missing work_interfere with Don't know\n",
    "df['work_interfere'].value_counts()\n",
    "df['work_interfere'].fillna(value='Don\\'t know', inplace=True)\n",
    "\n",
    "#comment column is dropped later"
   ]
  },
  {
   "cell_type": "code",
   "execution_count": 4,
   "id": "90d01355",
   "metadata": {},
   "outputs": [
    {
     "name": "stdout",
     "output_type": "stream",
     "text": [
      "Before Dropping:  (1259, 27)\n",
      "After Dropping:  (1031, 27)\n"
     ]
    }
   ],
   "source": [
    "#drop non-tech company answers:\n",
    "print(\"Before Dropping: \", df.shape)\n",
    "df = df[df['tech_company'] != 'No']\n",
    "print(\"After Dropping: \", df.shape)"
   ]
  },
  {
   "cell_type": "code",
   "execution_count": 5,
   "id": "c6cfb5ac",
   "metadata": {},
   "outputs": [
    {
     "name": "stdout",
     "output_type": "stream",
     "text": [
      "Timestamp: object\n",
      "Age: int64\n",
      "Gender: object\n",
      "Country: object\n",
      "state: object\n",
      "self_employed: object\n",
      "family_history: object\n",
      "treatment: object\n",
      "work_interfere: object\n",
      "no_employees: object\n",
      "remote_work: object\n",
      "tech_company: object\n",
      "benefits: object\n",
      "care_options: object\n",
      "wellness_program: object\n",
      "seek_help: object\n",
      "anonymity: object\n",
      "leave: object\n",
      "mental_health_consequence: object\n",
      "phys_health_consequence: object\n",
      "coworkers: object\n",
      "supervisor: object\n",
      "mental_health_interview: object\n",
      "phys_health_interview: object\n",
      "mental_vs_physical: object\n",
      "obs_consequence: object\n",
      "comments: object\n"
     ]
    }
   ],
   "source": [
    "#Type of each col\n",
    "for col_name, dtype in df.dtypes.to_dict().items():\n",
    "    print(col_name + \": \" + str(dtype))"
   ]
  },
  {
   "cell_type": "markdown",
   "id": "2c075af0",
   "metadata": {},
   "source": [
    "Note that age is the only continuous variable in this data set"
   ]
  },
  {
   "cell_type": "code",
   "execution_count": 72,
   "id": "7aba42fa",
   "metadata": {},
   "outputs": [
    {
     "data": {
      "text/plain": [
       "count           1031\n",
       "unique             5\n",
       "top       Don't know\n",
       "freq             456\n",
       "Name: leave, dtype: object"
      ]
     },
     "execution_count": 72,
     "metadata": {},
     "output_type": "execute_result"
    }
   ],
   "source": [
    "#target variable\n",
    "df['leave'].describe()"
   ]
  },
  {
   "cell_type": "code",
   "execution_count": 22,
   "id": "6182ffe0",
   "metadata": {},
   "outputs": [
    {
     "data": {
      "text/plain": [
       "<Figure size 432x288 with 0 Axes>"
      ]
     },
     "metadata": {},
     "output_type": "display_data"
    },
    {
     "data": {
      "image/png": "[encoded data removed]",
      "text/plain": [
       "<Figure size 360x216 with 1 Axes>"
      ]
     },
     "metadata": {
      "needs_background": "light"
     },
     "output_type": "display_data"
    }
   ],
   "source": [
    "import numpy as np\n",
    "import matplotlib\n",
    "from matplotlib import pylab as plt\n",
    "\n",
    "plt.figure()\n",
    "plt.rcParams.update({'font.size': 14})\n",
    "\n",
    "#bar graph for target variable\n",
    "plt.figure(figsize=(5,3))\n",
    "pd.value_counts(df['leave']).plot.bar()\n",
    "plt.ylabel('count')\n",
    "plt.show()"
   ]
  },
  {
   "cell_type": "markdown",
   "id": "96b0ebb6",
   "metadata": {},
   "source": [
    "For people who answered Don't know, what are the correlation between their answer and their take on if discussing a mental health issue with employer would have negative consequences."
   ]
  },
  {
   "cell_type": "code",
   "execution_count": 74,
   "id": "a074412c",
   "metadata": {},
   "outputs": [
    {
     "data": {
      "text/plain": [
       "count       456\n",
       "unique        3\n",
       "top       Maybe\n",
       "freq        208\n",
       "Name: mental_health_consequence, dtype: object"
      ]
     },
     "execution_count": 74,
     "metadata": {},
     "output_type": "execute_result"
    }
   ],
   "source": [
    "dont_know = df[df['leave']=='Don\\'t know']\n",
    "dont_know['mental_health_consequence'].describe()"
   ]
  },
  {
   "cell_type": "code",
   "execution_count": 75,
   "id": "88f53777",
   "metadata": {},
   "outputs": [
    {
     "data": {
      "image/png": "[encoded data removed]",
      "text/plain": [
       "<Figure size 360x216 with 1 Axes>"
      ]
     },
     "metadata": {
      "needs_background": "light"
     },
     "output_type": "display_data"
    }
   ],
   "source": [
    "#distribution of take on mental_health_concequence for people answered don't know to if taking a leave is easy\n",
    "plt.figure(figsize=(5,3))\n",
    "pd.value_counts(dont_know['mental_health_consequence']).plot.bar()\n",
    "plt.ylabel('count')\n",
    "plt.show()"
   ]
  },
  {
   "cell_type": "code",
   "execution_count": 76,
   "id": "1910d537",
   "metadata": {
    "scrolled": false
   },
   "outputs": [
    {
     "name": "stdout",
     "output_type": "stream",
     "text": [
      "mental_health_consequence     Maybe        No       Yes\n",
      "leave                                                  \n",
      "Don't know                 0.456140  0.320175  0.223684\n",
      "Somewhat difficult         0.275510  0.316327  0.408163\n",
      "Somewhat easy              0.378995  0.525114  0.095890\n",
      "Very difficult             0.265823  0.113924  0.620253\n",
      "Very easy                  0.206704  0.720670  0.072626\n"
     ]
    },
    {
     "data": {
      "text/plain": [
       "<Figure size 360x216 with 0 Axes>"
      ]
     },
     "metadata": {},
     "output_type": "display_data"
    },
    {
     "data": {
      "image/png": "[encoded data removed]",
      "text/plain": [
       "<Figure size 432x288 with 1 Axes>"
      ]
     },
     "metadata": {
      "needs_background": "light"
     },
     "output_type": "display_data"
    }
   ],
   "source": [
    "#correlation between mental_health_consequence and leave\n",
    "count_matrix = df.groupby(['leave', 'mental_health_consequence']).size().unstack()\n",
    "count_matrix_norm = count_matrix.div(count_matrix.sum(axis=1),axis=0)\n",
    "print(count_matrix_norm)\n",
    "\n",
    "plt.figure(figsize=(5,3))\n",
    "count_matrix_norm.plot(kind='bar', stacked=True)\n",
    "plt.ylabel('fraction of people in group')\n",
    "plt.legend(loc=4)\n",
    "plt.show()"
   ]
  },
  {
   "cell_type": "code",
   "execution_count": 28,
   "id": "dd45bafa",
   "metadata": {},
   "outputs": [
    {
     "name": "stdout",
     "output_type": "stream",
     "text": [
      "count    1025.000000\n",
      "mean       31.878049\n",
      "std         7.151114\n",
      "min        18.000000\n",
      "25%        27.000000\n",
      "50%        31.000000\n",
      "75%        35.000000\n",
      "max        62.000000\n",
      "Name: Age, dtype: float64\n",
      "count    1025.000000\n",
      "mean       31.878049\n",
      "std         7.151114\n",
      "min        18.000000\n",
      "25%        27.000000\n",
      "50%        31.000000\n",
      "75%        35.000000\n",
      "max        62.000000\n",
      "Name: Age, dtype: float64\n"
     ]
    },
    {
     "data": {
      "image/png": "[encoded data removed]",
      "text/plain": [
       "<Figure size 360x216 with 1 Axes>"
      ]
     },
     "metadata": {
      "needs_background": "light"
     },
     "output_type": "display_data"
    }
   ],
   "source": [
    "#distribution of age in the survey population\n",
    "print(df['Age'].describe())\n",
    "\n",
    "#drop wrong values\n",
    "df = df[df['Age'] < 90]\n",
    "df = df[df['Age'] > 15]\n",
    "\n",
    "#check if the wrong age is droped\n",
    "print(df['Age'].describe())\n",
    "\n",
    "plt.figure(figsize = (5,3))\n",
    "df['Age'].plot.hist(bins = 10) \n",
    "plt.xlabel('Age')\n",
    "\n",
    "plt.show()"
   ]
  },
  {
   "cell_type": "code",
   "execution_count": 27,
   "id": "dfefc8c1",
   "metadata": {},
   "outputs": [
    {
     "data": {
      "text/plain": [
       "<Figure size 360x216 with 0 Axes>"
      ]
     },
     "metadata": {},
     "output_type": "display_data"
    },
    {
     "data": {
      "image/png": "[encoded data removed]",
      "text/plain": [
       "<Figure size 432x288 with 1 Axes>"
      ]
     },
     "metadata": {
      "needs_background": "light"
     },
     "output_type": "display_data"
    }
   ],
   "source": [
    "#correlation between age and leave\n",
    "plt.figure(figsize = (5,3))\n",
    "df[['Age','leave']].boxplot(by='leave')\n",
    "plt.ylabel('Age')\n",
    "plt.suptitle('')\n",
    "plt.xticks(rotation=90)\n",
    "plt.show()"
   ]
  },
  {
   "cell_type": "code",
   "execution_count": 23,
   "id": "b631fd13",
   "metadata": {},
   "outputs": [
    {
     "name": "stdout",
     "output_type": "stream",
     "text": [
      "anonymity           Don't know        No       Yes\n",
      "leave                                             \n",
      "Don't know            0.820175  0.015351  0.164474\n",
      "Somewhat difficult    0.581633  0.153061  0.265306\n",
      "Somewhat easy         0.579909  0.018265  0.401826\n",
      "Very difficult        0.556962  0.215190  0.227848\n",
      "Very easy             0.458101  0.033520  0.508380\n"
     ]
    },
    {
     "data": {
      "text/plain": [
       "<Figure size 360x216 with 0 Axes>"
      ]
     },
     "metadata": {},
     "output_type": "display_data"
    },
    {
     "data": {
      "image/png": "[encoded data removed]",
      "text/plain": [
       "<Figure size 432x288 with 1 Axes>"
      ]
     },
     "metadata": {
      "needs_background": "light"
     },
     "output_type": "display_data"
    }
   ],
   "source": [
    "#correlation between anonymity and leave\n",
    "count_matrix = df.groupby(['leave', 'anonymity']).size().unstack()\n",
    "count_matrix_norm = count_matrix.div(count_matrix.sum(axis=1),axis=0)\n",
    "print(count_matrix_norm)\n",
    "\n",
    "plt.figure(figsize=(5,3))\n",
    "count_matrix_norm.plot(kind='bar', stacked=True)\n",
    "plt.ylabel('fraction of people in group')\n",
    "plt.legend(loc=4)\n",
    "plt.show()"
   ]
  },
  {
   "cell_type": "code",
   "execution_count": 82,
   "id": "ee8a8d12",
   "metadata": {},
   "outputs": [
    {
     "data": {
      "text/plain": [
       "count     1025\n",
       "unique      39\n",
       "top       Male\n",
       "freq       510\n",
       "Name: Gender, dtype: object"
      ]
     },
     "execution_count": 82,
     "metadata": {},
     "output_type": "execute_result"
    }
   ],
   "source": [
    "#gender describe\n",
    "df['Gender'].describe()"
   ]
  },
  {
   "cell_type": "code",
   "execution_count": 83,
   "id": "72f4436e",
   "metadata": {},
   "outputs": [
    {
     "data": {
      "image/png": "[encoded data removed]",
      "text/plain": [
       "<Figure size 720x216 with 1 Axes>"
      ]
     },
     "metadata": {
      "needs_background": "light"
     },
     "output_type": "display_data"
    }
   ],
   "source": [
    "#gender bar plot\n",
    "plt.figure(figsize=(10,3))\n",
    "pd.value_counts(df['Gender']).plot.bar()\n",
    "plt.ylabel('count')\n",
    "plt.show()"
   ]
  },
  {
   "cell_type": "markdown",
   "id": "9d038e45",
   "metadata": {},
   "source": [
    "Due to the sensitivity in gender, I'm not going to preprocess gender feautre for now"
   ]
  },
  {
   "cell_type": "code",
   "execution_count": 24,
   "id": "31923c5d",
   "metadata": {},
   "outputs": [
    {
     "name": "stdout",
     "output_type": "stream",
     "text": [
      "obs_consequence           No       Yes\n",
      "leave                                 \n",
      "Don't know          0.899123  0.100877\n",
      "Somewhat difficult  0.673469  0.326531\n",
      "Somewhat easy       0.904110  0.095890\n",
      "Very difficult      0.670886  0.329114\n",
      "Very easy           0.916201  0.083799\n"
     ]
    },
    {
     "data": {
      "text/plain": [
       "<Figure size 360x216 with 0 Axes>"
      ]
     },
     "metadata": {},
     "output_type": "display_data"
    },
    {
     "data": {
      "image/png": "[encoded data removed]",
      "text/plain": [
       "<Figure size 432x288 with 1 Axes>"
      ]
     },
     "metadata": {
      "needs_background": "light"
     },
     "output_type": "display_data"
    }
   ],
   "source": [
    "#obs_consequence and leave correlation\n",
    "count_matrix = df.groupby(['leave', 'obs_consequence']).size().unstack()\n",
    "count_matrix_norm = count_matrix.div(count_matrix.sum(axis=1),axis=0)\n",
    "print(count_matrix_norm)\n",
    "\n",
    "plt.figure(figsize=(5,3))\n",
    "count_matrix_norm.plot(kind='bar', stacked=True)\n",
    "plt.ylabel('fraction of people in group')\n",
    "plt.legend(loc=4)\n",
    "plt.show()"
   ]
  },
  {
   "cell_type": "code",
   "execution_count": 85,
   "id": "4482e0f8",
   "metadata": {},
   "outputs": [
    {
     "data": {
      "image/png": "[encoded data removed]",
      "text/plain": [
       "<Figure size 360x216 with 1 Axes>"
      ]
     },
     "metadata": {
      "needs_background": "light"
     },
     "output_type": "display_data"
    }
   ],
   "source": [
    "#correlation between age and mental_health_consequence\n",
    "plt.figure(figsize = (5,3))\n",
    "\n",
    "dataset = [df[df['mental_health_consequence']=='Maybe']['Age'].values,\n",
    "           df[df['mental_health_consequence']=='Yes']['Age'].values,\n",
    "          df[df['mental_health_consequence' ]=='No']['Age'].values]\n",
    "\n",
    "plt.violinplot(dataset = dataset)\n",
    "plt.xticks([1,2,3],['Maybe','Yes','No'])\n",
    "plt.ylabel('age')\n",
    "plt.show()"
   ]
  },
  {
   "cell_type": "code",
   "execution_count": 20,
   "id": "8eff2f74",
   "metadata": {},
   "outputs": [
    {
     "name": "stdout",
     "output_type": "stream",
     "text": [
      "mental_health_consequence     Maybe        No       Yes\n",
      "phys_health_consequence                                \n",
      "Maybe                      0.588517  0.038278  0.373206\n",
      "No                         0.324254  0.547341  0.128405\n",
      "Yes                        0.058824       NaN  0.941176\n"
     ]
    },
    {
     "data": {
      "text/plain": [
       "<Figure size 432x288 with 0 Axes>"
      ]
     },
     "metadata": {},
     "output_type": "display_data"
    },
    {
     "data": {
      "text/plain": [
       "<Figure size 720x432 with 0 Axes>"
      ]
     },
     "metadata": {},
     "output_type": "display_data"
    },
    {
     "data": {
      "image/png": "[encoded data removed]",
      "text/plain": [
       "<Figure size 432x288 with 1 Axes>"
      ]
     },
     "metadata": {
      "needs_background": "light"
     },
     "output_type": "display_data"
    }
   ],
   "source": [
    "#phys_health_consequence and meantal_health_consequence correlation\n",
    "plt.figure()\n",
    "plt.rcParams.update({'font.size': 14})\n",
    "\n",
    "count_matrix = df.groupby(['phys_health_consequence', 'mental_health_consequence']).size().unstack()\n",
    "count_matrix_norm = count_matrix.div(count_matrix.sum(axis=1),axis=0)\n",
    "print(count_matrix_norm)\n",
    "\n",
    "plt.figure(figsize=(10,6))\n",
    "count_matrix_norm.plot(kind='bar', stacked=True)\n",
    "plt.ylabel('fraction of people in group')\n",
    "plt.legend(loc=4)\n",
    "plt.show()"
   ]
  },
  {
   "cell_type": "code",
   "execution_count": 86,
   "id": "dc0ae434",
   "metadata": {},
   "outputs": [
    {
     "data": {
      "text/plain": [
       "Don't know            455\n",
       "Somewhat easy         218\n",
       "Very easy             176\n",
       "Somewhat difficult     98\n",
       "Very difficult         78\n",
       "Name: leave, dtype: int64"
      ]
     },
     "execution_count": 86,
     "metadata": {},
     "output_type": "execute_result"
    }
   ],
   "source": [
    "#balance of leave\n",
    "df['leave'].value_counts()"
   ]
  },
  {
   "cell_type": "code",
   "execution_count": 87,
   "id": "bba46d2a",
   "metadata": {},
   "outputs": [
    {
     "data": {
      "text/plain": [
       "No       428\n",
       "Maybe    375\n",
       "Yes      222\n",
       "Name: mental_health_consequence, dtype: int64"
      ]
     },
     "execution_count": 87,
     "metadata": {},
     "output_type": "execute_result"
    }
   ],
   "source": [
    "#balance of mental_health_consequence\n",
    "df['mental_health_consequence'].value_counts()"
   ]
  },
  {
   "cell_type": "code",
   "execution_count": 89,
   "id": "309eedf9",
   "metadata": {},
   "outputs": [
    {
     "name": "stdout",
     "output_type": "stream",
     "text": [
      "test balance: (array([\"Don't know\", 'Somewhat difficult', 'Somewhat easy',\n",
      "       'Very difficult', 'Very easy'], dtype=object), array([91, 19, 44, 16, 35]))\n",
      "training set: (615, 23) (615,)\n",
      "validation set: (205, 23) (205,)\n",
      "test set:  (205, 23) (205,)\n",
      "training set: (615, 23) (615,)\n",
      "validation set: (205, 23) (205,)\n",
      "test set:  (205, 23) (205,)\n",
      "training set: (615, 23) (615,)\n",
      "validation set: (205, 23) (205,)\n",
      "test set:  (205, 23) (205,)\n",
      "training set: (615, 23) (615,)\n",
      "validation set: (205, 23) (205,)\n",
      "test set:  (205, 23) (205,)\n",
      "\n",
      "\n",
      "      Age Gender Country state self_employed family_history treatment  \\\n",
      "1167   34   male  Poland   NaN            No             No        No   \n",
      "\n",
      "     work_interfere    no_employees remote_work  ... seek_help   anonymity  \\\n",
      "1167          Never  More than 1000         Yes  ...        No  Don't know   \n",
      "\n",
      "     mental_health_consequence phys_health_consequence     coworkers  \\\n",
      "1167                     Maybe                      No  Some of them   \n",
      "\n",
      "        supervisor mental_health_interview phys_health_interview  \\\n",
      "1167  Some of them                      No                   Yes   \n",
      "\n",
      "     mental_vs_physical obs_consequence  \n",
      "1167         Don't know              No  \n",
      "\n",
      "[1 rows x 23 columns]\n",
      "     Age Gender         Country state self_employed family_history treatment  \\\n",
      "538   27   Male  United Kingdom   NaN            No             No        No   \n",
      "\n",
      "    work_interfere no_employees remote_work  ... seek_help   anonymity  \\\n",
      "538          Never         6-25          No  ...        No  Don't know   \n",
      "\n",
      "    mental_health_consequence phys_health_consequence     coworkers  \\\n",
      "538                     Maybe                   Maybe  Some of them   \n",
      "\n",
      "       supervisor mental_health_interview phys_health_interview  \\\n",
      "538  Some of them                      No                    No   \n",
      "\n",
      "    mental_vs_physical obs_consequence  \n",
      "538         Don't know              No  \n",
      "\n",
      "[1 rows x 23 columns]\n",
      "     Age Gender Country state self_employed family_history treatment  \\\n",
      "698   31   male  France   NaN            No             No        No   \n",
      "\n",
      "    work_interfere no_employees remote_work  ...   seek_help   anonymity  \\\n",
      "698            NaN     500-1000          No  ...  Don't know  Don't know   \n",
      "\n",
      "    mental_health_consequence phys_health_consequence     coworkers  \\\n",
      "698                     Maybe                   Maybe  Some of them   \n",
      "\n",
      "    supervisor mental_health_interview phys_health_interview  \\\n",
      "698         No                      No                    No   \n",
      "\n",
      "    mental_vs_physical obs_consequence  \n",
      "698                Yes              No  \n",
      "\n",
      "[1 rows x 23 columns]\n"
     ]
    }
   ],
   "source": [
    "#splitting the data: no group, but imbalance, iid --stratifiedKfold and shuffle\n",
    "#In reality, if we take into consideration company, which makes group, the data will not be iid.\n",
    "#However, we do not know how the survey is distributed, and since the company is not specified, \n",
    "#I am going to assume the data is iid\n",
    "#dropping comments, timestamp as it has no effect on the model\n",
    "\n",
    "from sklearn.model_selection import StratifiedKFold\n",
    "from sklearn.model_selection import train_test_split\n",
    "\n",
    "y = df['leave']\n",
    "X = df.drop(columns= ['leave', 'comments', 'Timestamp', 'tech_company'])\n",
    "random_state = 37\n",
    "\n",
    "# stratified train-test split\n",
    "X_other, X_test, y_other, y_test = train_test_split(X,y,test_size = 0.2,stratify=y,random_state=random_state)\n",
    "print('test balance:',np.unique(y_test,return_counts=True))\n",
    "\n",
    "# do StratifiedKFold split on other\n",
    "kf = StratifiedKFold(n_splits=4,shuffle=True,random_state=random_state)\n",
    "for train_index, val_index in kf.split(X_other,y_other):\n",
    "    X_train = X_other.iloc[train_index]\n",
    "    y_train = y_other.iloc[train_index]\n",
    "    X_val = X_other.iloc[val_index]\n",
    "    y_val = y_other.iloc[val_index]\n",
    "    print('training set:',X_train.shape, y_train.shape) \n",
    "    print('validation set:',X_val.shape, y_val.shape) \n",
    "    print('test set: ', X_test.shape, y_test.shape)\n",
    "    \n",
    "print('\\n')\n",
    "#check reproducibility\n",
    "print(X_train.head(1))\n",
    "print(X_val.head(1))\n",
    "print(X_test.head(1))"
   ]
  },
  {
   "cell_type": "code",
   "execution_count": 94,
   "id": "67fa971b",
   "metadata": {},
   "outputs": [
    {
     "name": "stdout",
     "output_type": "stream",
     "text": [
      "(615, 23)\n",
      "(615, 170)\n",
      "[[ 0.30912805  0.          0.         ...  0.          1.\n",
      "   0.        ]\n",
      " [-0.5427633   0.          0.         ...  1.          1.\n",
      "   0.        ]\n",
      " [ 0.45110994  0.          0.         ...  0.          1.\n",
      "   0.        ]\n",
      " ...\n",
      " [-0.25879951  0.          0.         ...  0.          1.\n",
      "   0.        ]\n",
      " [ 0.59309184  0.          0.         ...  0.          1.\n",
      "   0.        ]\n",
      " [ 0.45110994  0.          0.         ...  0.          1.\n",
      "   0.        ]]\n"
     ]
    }
   ],
   "source": [
    "#preprocess the splitted data\n",
    "from sklearn.compose import ColumnTransformer\n",
    "from sklearn.pipeline import Pipeline\n",
    "from sklearn.preprocessing import StandardScaler, OneHotEncoder, OrdinalEncoder, MinMaxScaler\n",
    "\n",
    "#age is tailed, so use standard instead of minmax\n",
    "std_ftrs = ['Age']\n",
    "onehot_ftrs = ['Gender', 'Country', 'state', 'self_employed', 'family_history', 'treatment', \\\n",
    "               'work_interfere', 'no_employees', 'remote_work', 'benefits', 'care_options', \\\n",
    "               'wellness_program', 'seek_help', 'anonymity','mental_health_consequence', \\\n",
    "               'phys_health_consequence', 'coworkers', 'supervisor', 'mental_health_interview', \\\n",
    "               'phys_health_interview', 'mental_vs_physical', 'obs_consequence']\n",
    "\n",
    "preprocessor = ColumnTransformer(transformers=[\n",
    "    ('std', StandardScaler(), std_ftrs),\n",
    "    ('onehot', OneHotEncoder(sparse=False,handle_unknown='ignore'), onehot_ftrs)])\n",
    "\n",
    "clf = Pipeline(steps=[('preprocessor', preprocessor)]) \n",
    "\n",
    "X_train_prep = clf.fit_transform(X_train)\n",
    "X_val_prep = clf.transform(X_val)\n",
    "X_test_prep = clf.transform(X_test)\n",
    "\n",
    "print(X_train.shape)\n",
    "print(X_train_prep.shape)\n",
    "print(X_train_prep)"
   ]
  }
 ],
 "metadata": {
  "kernelspec": {
   "display_name": "Python 3",
   "language": "python",
   "name": "python3"
  },
  "language_info": {
   "codemirror_mode": {
    "name": "ipython",
    "version": 3
   },
   "file_extension": ".py",
   "mimetype": "text/x-python",
   "name": "python",
   "nbconvert_exporter": "python",
   "pygments_lexer": "ipython3",
   "version": "3.8.8"
  }
 },
 "nbformat": 4,
 "nbformat_minor": 5
}
